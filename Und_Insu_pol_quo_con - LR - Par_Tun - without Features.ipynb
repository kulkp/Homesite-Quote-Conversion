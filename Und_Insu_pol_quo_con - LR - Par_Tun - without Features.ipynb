{
 "cells": [
  {
   "cell_type": "markdown",
   "metadata": {},
   "source": [
    "# Understanding Insurance policy quote conversions \n",
    "Which customers will purchase a quoted insurance plan?"
   ]
  },
  {
   "cell_type": "markdown",
   "metadata": {},
   "source": [
    "##### Data Source - kaggle (https://www.kaggle.com/c/homesite-quote-conversion/data) \n",
    "Information about customers.We are Suppose to predict whether customer will buy suggested quote or not"
   ]
  },
  {
   "cell_type": "code",
   "execution_count": 1,
   "metadata": {},
   "outputs": [],
   "source": [
    "#import all the required libraries \n",
    "import pandas as pd\n",
    "import numpy as np\n",
    "import matplotlib as plt\n",
    "from sklearn import preprocessing\n",
    "from sklearn.model_selection import train_test_split,cross_val_score, RepeatedStratifiedKFold, GridSearchCV\n",
    "from sklearn.linear_model import LogisticRegression\n",
    "from sklearn.datasets import make_blobs\n",
    "from sklearn.metrics import accuracy_score, f1_score, log_loss, roc_auc_score"
   ]
  },
  {
   "cell_type": "code",
   "execution_count": 2,
   "metadata": {},
   "outputs": [
    {
     "name": "stdout",
     "output_type": "stream",
     "text": [
      "(260753, 299)\n",
      "(173836, 298)\n"
     ]
    }
   ],
   "source": [
    "#Load the csv file using pandas which we downloaded from kaggle \n",
    "homesite_train =  pd.read_csv('train_homesite.csv')\n",
    "homesite_test = pd.read_csv('test_homesite.csv')\n",
    "\n",
    "print(homesite_train.shape)\n",
    "print(homesite_test.shape)"
   ]
  },
  {
   "cell_type": "code",
   "execution_count": 3,
   "metadata": {},
   "outputs": [],
   "source": [
    "#Date field manipulations - tarining dataset \n",
    "homesite_train['Original_Quote_Date'] = pd.to_datetime(pd.Series(homesite_train['Original_Quote_Date']))\n",
    "homesite_train['Year'] = homesite_train['Original_Quote_Date'].apply(lambda x: int(str(x)[:4]))\n",
    "homesite_train['Month'] = homesite_train['Original_Quote_Date'].apply(lambda x: int(str(x)[5:7]))\n",
    "homesite_train['weekday'] = homesite_train['Original_Quote_Date'].dt.dayofweek\n",
    "\n",
    "#Date field manipulations - testing dataset\n",
    "homesite_test['Original_Quote_Date'] = pd.to_datetime(pd.Series(homesite_test['Original_Quote_Date']))\n",
    "homesite_test['Year'] = homesite_test['Original_Quote_Date'].apply(lambda x: int(str(x)[:4]))\n",
    "homesite_test['Month'] = homesite_test['Original_Quote_Date'].apply(lambda x: int(str(x)[5:7]))\n",
    "homesite_test['weekday'] = homesite_test['Original_Quote_Date'].dt.dayofweek"
   ]
  },
  {
   "cell_type": "code",
   "execution_count": 4,
   "metadata": {},
   "outputs": [
    {
     "name": "stdout",
     "output_type": "stream",
     "text": [
      "Training dataset shape : (260753, 302)\n",
      "Testing dataset shape : (173836, 301)\n"
     ]
    }
   ],
   "source": [
    "#Check the shape of training & testing data \n",
    "print('Training dataset shape :', homesite_train.shape)\n",
    "print('Testing dataset shape :', homesite_test.shape)"
   ]
  },
  {
   "cell_type": "code",
   "execution_count": 5,
   "metadata": {},
   "outputs": [
    {
     "data": {
      "text/plain": [
       "PropertyField29    76.963640\n",
       "PersonalField84    47.634351\n",
       "PropertyField38     0.467876\n",
       "PropertyField36     0.043336\n",
       "PersonalField7      0.043336\n",
       "PropertyField3      0.031064\n",
       "PropertyField34     0.026845\n",
       "PropertyField32     0.026845\n",
       "PropertyField4      0.024161\n",
       "dtype: float64"
      ]
     },
     "execution_count": 5,
     "metadata": {},
     "output_type": "execute_result"
    }
   ],
   "source": [
    "#missing values in training dataset \n",
    "num_homesite_train = homesite_train.isnull().sum().sort_values(ascending=False)\n",
    "#missing values in percentage \n",
    "num_homesite_train= homesite_train.isnull().sum().sort_values(ascending=False)/len(homesite_train)*100\n",
    "# Printing only those colulmns which have null values \n",
    "num_homesite_train = num_homesite_train[num_homesite_train!= 0]\n",
    "num_homesite_train"
   ]
  },
  {
   "cell_type": "code",
   "execution_count": 6,
   "metadata": {},
   "outputs": [
    {
     "data": {
      "text/plain": [
       "PropertyField29    77.052509\n",
       "PersonalField84    47.638004\n",
       "PropertyField38     0.486666\n",
       "PropertyField3      0.039693\n",
       "PersonalField7      0.039693\n",
       "PropertyField36     0.038542\n",
       "PropertyField4      0.029913\n",
       "PropertyField34     0.023585\n",
       "PropertyField32     0.023585\n",
       "PropertyField5      0.000575\n",
       "PropertyField30     0.000575\n",
       "dtype: float64"
      ]
     },
     "execution_count": 6,
     "metadata": {},
     "output_type": "execute_result"
    }
   ],
   "source": [
    "#missing values in testing dataset \n",
    "null_homesite_test = homesite_test.isnull().sum().sort_values(ascending=False)\n",
    "#missing values in percentage \n",
    "null_homesite_test = homesite_test.isnull().sum().sort_values(ascending=False)/len(homesite_test)*100\n",
    "# Printing only those colulmns which have null values \n",
    "null_homesite_test = null_homesite_test[null_homesite_test!= 0]\n",
    "null_homesite_test"
   ]
  },
  {
   "cell_type": "code",
   "execution_count": 7,
   "metadata": {},
   "outputs": [
    {
     "name": "stdout",
     "output_type": "stream",
     "text": [
      "(260753, 297)\n"
     ]
    }
   ],
   "source": [
    "#remove columns which we are not going to use - all columns with null values in training dataset\n",
    "homesite_train = homesite_train.drop(columns=['PropertyField29'])\n",
    "homesite_train = homesite_train.drop(columns=['PersonalField84'])\n",
    "homesite_train = homesite_train.drop(columns=['Original_Quote_Date'])\n",
    "homesite_train = homesite_train.drop(columns=['PropertyField6'])\n",
    "homesite_train = homesite_train.drop(columns=['GeographicField10A'])\n",
    "print(homesite_train.shape)"
   ]
  },
  {
   "cell_type": "code",
   "execution_count": 8,
   "metadata": {},
   "outputs": [
    {
     "name": "stdout",
     "output_type": "stream",
     "text": [
      "(173836, 296)\n"
     ]
    }
   ],
   "source": [
    "#remove columns which we are not going to use - all columns with null values in testing dataset\n",
    "homesite_test = homesite_test.drop(columns=['PropertyField29'])\n",
    "homesite_test = homesite_test.drop(columns=['PersonalField84'])\n",
    "homesite_test = homesite_test.drop(columns=['Original_Quote_Date'])\n",
    "homesite_test = homesite_test.drop(columns=['PropertyField6'])\n",
    "homesite_test = homesite_test.drop(columns=['GeographicField10A'])\n",
    "print(homesite_test.shape)"
   ]
  },
  {
   "cell_type": "code",
   "execution_count": 9,
   "metadata": {},
   "outputs": [
    {
     "name": "stdout",
     "output_type": "stream",
     "text": [
      "(260753, 297)\n",
      "(173836, 296)\n"
     ]
    }
   ],
   "source": [
    "#remove duplicate rows \n",
    "homesite_train = homesite_train.drop_duplicates()\n",
    "print(homesite_train.shape)\n",
    "\n",
    "homesite_test = homesite_test.drop_duplicates()\n",
    "print(homesite_test.shape)"
   ]
  },
  {
   "cell_type": "code",
   "execution_count": 10,
   "metadata": {},
   "outputs": [],
   "source": [
    "#fillna (-99)\n",
    "homesite_train=homesite_train.fillna(-99)\n",
    "homesite_test=homesite_test.fillna(-99)"
   ]
  },
  {
   "cell_type": "code",
   "execution_count": 11,
   "metadata": {},
   "outputs": [
    {
     "name": "stdout",
     "output_type": "stream",
     "text": [
      "Field6\n",
      "Field6\n",
      "Field10\n",
      "Field10\n",
      "Field12\n",
      "Field12\n",
      "CoverageField8\n",
      "CoverageField8\n",
      "CoverageField9\n",
      "CoverageField9\n",
      "SalesField7\n",
      "SalesField7\n",
      "PersonalField7\n",
      "PersonalField7\n",
      "PersonalField16\n",
      "PersonalField16\n",
      "PersonalField17\n",
      "PersonalField17\n",
      "PersonalField18\n",
      "PersonalField18\n",
      "PersonalField19\n",
      "PersonalField19\n",
      "PropertyField3\n",
      "PropertyField3\n",
      "PropertyField4\n",
      "PropertyField4\n",
      "PropertyField5\n",
      "PropertyField5\n",
      "PropertyField7\n",
      "PropertyField7\n",
      "PropertyField14\n",
      "PropertyField14\n",
      "PropertyField28\n",
      "PropertyField28\n",
      "PropertyField30\n",
      "PropertyField30\n",
      "PropertyField31\n",
      "PropertyField31\n",
      "PropertyField32\n",
      "PropertyField32\n",
      "PropertyField33\n",
      "PropertyField33\n",
      "PropertyField34\n",
      "PropertyField34\n",
      "PropertyField36\n",
      "PropertyField36\n",
      "PropertyField37\n",
      "PropertyField37\n",
      "PropertyField38\n",
      "PropertyField38\n",
      "GeographicField63\n",
      "GeographicField63\n",
      "GeographicField64\n",
      "GeographicField64\n"
     ]
    }
   ],
   "source": [
    "## Converting categorical variables into numeric variables with label encoder\n",
    "from sklearn.preprocessing import LabelEncoder  \n",
    "\n",
    "for cat in homesite_train.columns:\n",
    "    if homesite_train[cat].dtype=='object':\n",
    "        print(cat)\n",
    "        lbl=preprocessing.LabelEncoder()\n",
    "        lbl.fit(list(homesite_train[cat].values))\n",
    "        homesite_train[cat]=lbl.transform(list(homesite_train[cat].values))\n",
    "        print(cat)"
   ]
  },
  {
   "cell_type": "code",
   "execution_count": 12,
   "metadata": {},
   "outputs": [
    {
     "name": "stdout",
     "output_type": "stream",
     "text": [
      "Field6\n",
      "Field6\n",
      "Field10\n",
      "Field10\n",
      "Field12\n",
      "Field12\n",
      "CoverageField8\n",
      "CoverageField8\n",
      "CoverageField9\n",
      "CoverageField9\n",
      "SalesField7\n",
      "SalesField7\n",
      "PersonalField7\n",
      "PersonalField7\n",
      "PersonalField16\n",
      "PersonalField16\n",
      "PersonalField17\n",
      "PersonalField17\n",
      "PersonalField18\n",
      "PersonalField18\n",
      "PersonalField19\n",
      "PersonalField19\n",
      "PropertyField3\n",
      "PropertyField3\n",
      "PropertyField4\n",
      "PropertyField4\n",
      "PropertyField5\n",
      "PropertyField5\n",
      "PropertyField7\n",
      "PropertyField7\n",
      "PropertyField14\n",
      "PropertyField14\n",
      "PropertyField28\n",
      "PropertyField28\n",
      "PropertyField30\n",
      "PropertyField30\n",
      "PropertyField31\n",
      "PropertyField31\n",
      "PropertyField32\n",
      "PropertyField32\n",
      "PropertyField33\n",
      "PropertyField33\n",
      "PropertyField34\n",
      "PropertyField34\n",
      "PropertyField36\n",
      "PropertyField36\n",
      "PropertyField37\n",
      "PropertyField37\n",
      "PropertyField38\n",
      "PropertyField38\n",
      "GeographicField63\n",
      "GeographicField63\n",
      "GeographicField64\n",
      "GeographicField64\n"
     ]
    }
   ],
   "source": [
    "## Converting categorical variables into numeric variables with label encoder\n",
    "for cat in homesite_test.columns:\n",
    "    if homesite_test[cat].dtype=='object':\n",
    "        print(cat)\n",
    "        lbl=preprocessing.LabelEncoder()\n",
    "        lbl.fit(list(homesite_test[cat].values))\n",
    "        homesite_test[cat]=lbl.transform(list(homesite_test[cat].values))\n",
    "        print(cat)"
   ]
  },
  {
   "cell_type": "code",
   "execution_count": 13,
   "metadata": {},
   "outputs": [
    {
     "data": {
      "text/plain": [
       "296"
      ]
     },
     "execution_count": 13,
     "metadata": {},
     "output_type": "execute_result"
    }
   ],
   "source": [
    "len(homesite_test.columns)"
   ]
  },
  {
   "cell_type": "code",
   "execution_count": 14,
   "metadata": {},
   "outputs": [
    {
     "name": "stdout",
     "output_type": "stream",
     "text": [
      "(173836, 295)\n",
      "(260753, 295)\n"
     ]
    }
   ],
   "source": [
    "X_train = homesite_train.drop(columns=['QuoteNumber'])\n",
    "X_train = X_train.drop(columns=['QuoteConversion_Flag'])\n",
    "y_train = homesite_train.QuoteConversion_Flag\n",
    " \n",
    "X_test = homesite_test.drop(columns=['QuoteNumber'])\n",
    "print(X_test.shape)\n",
    "print(X_train.shape)"
   ]
  },
  {
   "cell_type": "code",
   "execution_count": 15,
   "metadata": {},
   "outputs": [],
   "source": [
    "#Split the training data into training & validation\n",
    "X_train,X_val,y_train,y_val=train_test_split(X_train,y_train,test_size=0.3,random_state=0)"
   ]
  },
  {
   "cell_type": "code",
   "execution_count": 16,
   "metadata": {},
   "outputs": [
    {
     "data": {
      "text/plain": [
       "LogisticRegression(C=0.01, solver='liblinear')"
      ]
     },
     "execution_count": 16,
     "metadata": {},
     "output_type": "execute_result"
    }
   ],
   "source": [
    "#Logistic Regression with parameter tuning \n",
    "model_lr = LogisticRegression(solver='liblinear',penalty='l2',C= 0.01)\n",
    "model_lr.fit(X_train,y_train)"
   ]
  },
  {
   "cell_type": "code",
   "execution_count": 17,
   "metadata": {},
   "outputs": [],
   "source": [
    "#Derive \"y_pred\" values based on X_val\n",
    "y_pred = model_lr.predict(X_val)"
   ]
  },
  {
   "cell_type": "code",
   "execution_count": 18,
   "metadata": {},
   "outputs": [
    {
     "name": "stdout",
     "output_type": "stream",
     "text": [
      "Accuracy of LR : 0.8714877406488891\n"
     ]
    }
   ],
   "source": [
    "#Accuracy of validation data\n",
    "print('Accuracy of LR :', accuracy_score(y_val, y_pred, normalize=True))"
   ]
  },
  {
   "cell_type": "code",
   "execution_count": 19,
   "metadata": {},
   "outputs": [
    {
     "name": "stdout",
     "output_type": "stream",
     "text": [
      "F1 Score : 0.8586931991852605\n"
     ]
    }
   ],
   "source": [
    "#F1 score of validation data\n",
    "from sklearn.metrics import f1_score\n",
    "print ('F1 Score :' , f1_score(y_val, y_pred, average='weighted'))"
   ]
  },
  {
   "cell_type": "code",
   "execution_count": 20,
   "metadata": {},
   "outputs": [
    {
     "name": "stdout",
     "output_type": "stream",
     "text": [
      "Log loss : 4.438678135577937\n"
     ]
    }
   ],
   "source": [
    "#log loss of validation data\n",
    "from sklearn.metrics import log_loss\n",
    "print('Log loss :' ,log_loss(y_val, y_pred))"
   ]
  },
  {
   "cell_type": "code",
   "execution_count": 21,
   "metadata": {},
   "outputs": [
    {
     "name": "stdout",
     "output_type": "stream",
     "text": [
      "ROC/AUC score : 0.7151417943512738\n"
     ]
    }
   ],
   "source": [
    "#ROC/AUC of validation data\n",
    "from sklearn.metrics import roc_auc_score\n",
    "print ('ROC/AUC score :' ,roc_auc_score(y_val, y_pred, average='weighted'))"
   ]
  },
  {
   "cell_type": "code",
   "execution_count": 24,
   "metadata": {},
   "outputs": [
    {
     "name": "stdout",
     "output_type": "stream",
     "text": [
      "roc_auc_score for DecisionTree:  0.9072514421187423\n"
     ]
    },
    {
     "data": {
      "image/png": "[encoded data removed]",
      "text/plain": [
       "<Figure size 576x720 with 1 Axes>"
      ]
     },
     "metadata": {
      "needs_background": "light"
     },
     "output_type": "display_data"
    }
   ],
   "source": [
    "#plot ROC/AUC\n",
    "import matplotlib.pyplot as plt \n",
    "import sklearn.metrics as metrics\n",
    "y_score1 = model_lr.predict_proba(X_val)[:,1]\n",
    "#y_score2 = clf_reg.predict_proba(X_test)[:,1]\n",
    "\n",
    "false_positive_rate1, true_positive_rate1, threshold1 = metrics.roc_curve(y_val, y_score1)\n",
    "#false_positive_rate2, true_positive_rate2, threshold2 = roc_curve(y_test, y_score2)\n",
    "\n",
    "print('roc_auc_score for DecisionTree: ', roc_auc_score(y_val, y_score1))\n",
    "#print('roc_auc_score for Logistic Regression: ', roc_auc_score(y_test, y_score2))\n",
    "    \n",
    "plt.subplots(1, figsize=(8,10))\n",
    "plt.title('Receiver Operating Characteristic - Logistic Regression Without Feature Selection')\n",
    "plt.plot(false_positive_rate1, true_positive_rate1)\n",
    "plt.plot([0, 1], ls=\"--\")\n",
    "plt.plot([0, 0], [1, 0] , c=\".7\"), plt.plot([1, 1] , c=\".7\")\n",
    "plt.ylabel('True Positive Rate')\n",
    "plt.xlabel('False Positive Rate')\n",
    "plt.show()"
   ]
  },
  {
   "cell_type": "code",
   "execution_count": 77,
   "metadata": {},
   "outputs": [],
   "source": [
    "#predcting probability using LR for testing dataset\n",
    "y_test = model_lr.predict_proba(X_test)"
   ]
  },
  {
   "cell_type": "code",
   "execution_count": 78,
   "metadata": {},
   "outputs": [],
   "source": [
    "#final submission \n",
    "df_submission=pd.read_csv('sample_submission.csv')\n",
    "df_submission['QuoteConversion_Flag']=y_test[:,1]\n",
    "df_submission.to_csv('LR_without_feature.csv',index=False)"
   ]
  },
  {
   "cell_type": "code",
   "execution_count": null,
   "metadata": {},
   "outputs": [],
   "source": []
  }
 ],
 "metadata": {
  "kernelspec": {
   "display_name": "Python 3",
   "language": "python",
   "name": "python3"
  },
  "language_info": {
   "codemirror_mode": {
    "name": "ipython",
    "version": 3
   },
   "file_extension": ".py",
   "mimetype": "text/x-python",
   "name": "python",
   "nbconvert_exporter": "python",
   "pygments_lexer": "ipython3",
   "version": "3.7.0"
  }
 },
 "nbformat": 4,
 "nbformat_minor": 2
}
