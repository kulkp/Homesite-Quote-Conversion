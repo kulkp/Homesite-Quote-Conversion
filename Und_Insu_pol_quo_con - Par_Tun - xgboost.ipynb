{
 "cells": [
  {
   "cell_type": "markdown",
   "metadata": {},
   "source": [
    "# Understanding Insurance policy quote conversions \n",
    "Which customers will purchase a quoted insurance plan?"
   ]
  },
  {
   "cell_type": "markdown",
   "metadata": {},
   "source": [
    "##### Data Source - kaggle (https://www.kaggle.com/c/homesite-quote-conversion/data) \n",
    "Information about customers.We are Suppose to predict whether customer will buy suggested quote or not"
   ]
  },
  {
   "cell_type": "code",
   "execution_count": 1,
   "metadata": {},
   "outputs": [],
   "source": [
    "#import all the required libraries \n",
    "import pandas as pd\n",
    "import numpy as np\n",
    "import matplotlib as plt\n",
    "from sklearn import preprocessing\n",
    "from sklearn.model_selection import train_test_split,cross_val_score,RepeatedStratifiedKFold,GridSearchCV\n",
    "from sklearn.metrics import accuracy_score, f1_score, log_loss, roc_auc_score\n",
    "from xgboost import XGBClassifier"
   ]
  },
  {
   "cell_type": "code",
   "execution_count": 2,
   "metadata": {},
   "outputs": [
    {
     "name": "stdout",
     "output_type": "stream",
     "text": [
      "(260753, 299)\n",
      "(173836, 298)\n"
     ]
    }
   ],
   "source": [
    "#Load the csv file using pandas which we downloaded from kaggle \n",
    "homesite_train =  pd.read_csv('train_homesite.csv')\n",
    "homesite_test = pd.read_csv('test_homesite.csv')\n",
    "\n",
    "print(homesite_train.shape)\n",
    "print(homesite_test.shape)"
   ]
  },
  {
   "cell_type": "code",
   "execution_count": 3,
   "metadata": {},
   "outputs": [],
   "source": [
    "#Date field manipulations - tarining dataset \n",
    "homesite_train['Original_Quote_Date'] = pd.to_datetime(pd.Series(homesite_train['Original_Quote_Date']))\n",
    "homesite_train['Year'] = homesite_train['Original_Quote_Date'].apply(lambda x: int(str(x)[:4]))\n",
    "homesite_train['Month'] = homesite_train['Original_Quote_Date'].apply(lambda x: int(str(x)[5:7]))\n",
    "homesite_train['weekday'] = homesite_train['Original_Quote_Date'].dt.dayofweek\n",
    "\n",
    "#Date field manipulations - testing dataset\n",
    "homesite_test['Original_Quote_Date'] = pd.to_datetime(pd.Series(homesite_test['Original_Quote_Date']))\n",
    "homesite_test['Year'] = homesite_test['Original_Quote_Date'].apply(lambda x: int(str(x)[:4]))\n",
    "homesite_test['Month'] = homesite_test['Original_Quote_Date'].apply(lambda x: int(str(x)[5:7]))\n",
    "homesite_test['weekday'] = homesite_test['Original_Quote_Date'].dt.dayofweek"
   ]
  },
  {
   "cell_type": "code",
   "execution_count": 4,
   "metadata": {},
   "outputs": [
    {
     "name": "stdout",
     "output_type": "stream",
     "text": [
      "Training dataset shape : (260753, 302)\n",
      "Testing dataset shape : (173836, 301)\n"
     ]
    }
   ],
   "source": [
    "#Check the shape of training & testing data \n",
    "print('Training dataset shape :', homesite_train.shape)\n",
    "print('Testing dataset shape :', homesite_test.shape)"
   ]
  },
  {
   "cell_type": "code",
   "execution_count": 5,
   "metadata": {},
   "outputs": [
    {
     "data": {
      "text/plain": [
       "PropertyField29    76.963640\n",
       "PersonalField84    47.634351\n",
       "PropertyField38     0.467876\n",
       "PropertyField36     0.043336\n",
       "PersonalField7      0.043336\n",
       "PropertyField3      0.031064\n",
       "PropertyField34     0.026845\n",
       "PropertyField32     0.026845\n",
       "PropertyField4      0.024161\n",
       "dtype: float64"
      ]
     },
     "execution_count": 5,
     "metadata": {},
     "output_type": "execute_result"
    }
   ],
   "source": [
    "#missing values in training dataset \n",
    "num_homesite_train = homesite_train.isnull().sum().sort_values(ascending=False)\n",
    "#missing values in percentage \n",
    "num_homesite_train= homesite_train.isnull().sum().sort_values(ascending=False)/len(homesite_train)*100\n",
    "# Printing only those colulmns which have null values \n",
    "num_homesite_train = num_homesite_train[num_homesite_train!= 0]\n",
    "num_homesite_train"
   ]
  },
  {
   "cell_type": "code",
   "execution_count": 6,
   "metadata": {},
   "outputs": [
    {
     "data": {
      "text/plain": [
       "PropertyField29    77.052509\n",
       "PersonalField84    47.638004\n",
       "PropertyField38     0.486666\n",
       "PropertyField3      0.039693\n",
       "PersonalField7      0.039693\n",
       "PropertyField36     0.038542\n",
       "PropertyField4      0.029913\n",
       "PropertyField34     0.023585\n",
       "PropertyField32     0.023585\n",
       "PropertyField5      0.000575\n",
       "PropertyField30     0.000575\n",
       "dtype: float64"
      ]
     },
     "execution_count": 6,
     "metadata": {},
     "output_type": "execute_result"
    }
   ],
   "source": [
    "#missing values in testing dataset \n",
    "null_homesite_test = homesite_test.isnull().sum().sort_values(ascending=False)\n",
    "#missing values in percentage \n",
    "null_homesite_test = homesite_test.isnull().sum().sort_values(ascending=False)/len(homesite_test)*100\n",
    "# Printing only those colulmns which have null values \n",
    "null_homesite_test = null_homesite_test[null_homesite_test!= 0]\n",
    "null_homesite_test"
   ]
  },
  {
   "cell_type": "code",
   "execution_count": 8,
   "metadata": {},
   "outputs": [
    {
     "ename": "KeyError",
     "evalue": "\"['PropertyField29'] not found in axis\"",
     "output_type": "error",
     "traceback": [
      "\u001b[1;31m---------------------------------------------------------------------------\u001b[0m",
      "\u001b[1;31mKeyError\u001b[0m                                  Traceback (most recent call last)",
      "\u001b[1;32m<ipython-input-8-a0eef1883fad>\u001b[0m in \u001b[0;36m<module>\u001b[1;34m()\u001b[0m\n\u001b[0;32m      1\u001b[0m \u001b[1;31m#remove columns which we are not going to use - all columns with null values in training dataset\u001b[0m\u001b[1;33m\u001b[0m\u001b[1;33m\u001b[0m\u001b[0m\n\u001b[1;32m----> 2\u001b[1;33m \u001b[0mhomesite_train\u001b[0m \u001b[1;33m=\u001b[0m \u001b[0mhomesite_train\u001b[0m\u001b[1;33m.\u001b[0m\u001b[0mdrop\u001b[0m\u001b[1;33m(\u001b[0m\u001b[0mcolumns\u001b[0m\u001b[1;33m=\u001b[0m\u001b[1;33m[\u001b[0m\u001b[1;34m'PropertyField29'\u001b[0m\u001b[1;33m]\u001b[0m\u001b[1;33m)\u001b[0m\u001b[1;33m\u001b[0m\u001b[0m\n\u001b[0m\u001b[0;32m      3\u001b[0m \u001b[0mhomesite_train\u001b[0m \u001b[1;33m=\u001b[0m \u001b[0mhomesite_train\u001b[0m\u001b[1;33m.\u001b[0m\u001b[0mdrop\u001b[0m\u001b[1;33m(\u001b[0m\u001b[0mcolumns\u001b[0m\u001b[1;33m=\u001b[0m\u001b[1;33m[\u001b[0m\u001b[1;34m'PersonalField84'\u001b[0m\u001b[1;33m]\u001b[0m\u001b[1;33m)\u001b[0m\u001b[1;33m\u001b[0m\u001b[0m\n\u001b[0;32m      4\u001b[0m \u001b[0mhomesite_train\u001b[0m \u001b[1;33m=\u001b[0m \u001b[0mhomesite_train\u001b[0m\u001b[1;33m.\u001b[0m\u001b[0mdrop\u001b[0m\u001b[1;33m(\u001b[0m\u001b[0mcolumns\u001b[0m\u001b[1;33m=\u001b[0m\u001b[1;33m[\u001b[0m\u001b[1;34m'Original_Quote_Date'\u001b[0m\u001b[1;33m]\u001b[0m\u001b[1;33m)\u001b[0m\u001b[1;33m\u001b[0m\u001b[0m\n\u001b[0;32m      5\u001b[0m \u001b[0mhomesite_train\u001b[0m \u001b[1;33m=\u001b[0m \u001b[0mhomesite_train\u001b[0m\u001b[1;33m.\u001b[0m\u001b[0mdrop\u001b[0m\u001b[1;33m(\u001b[0m\u001b[0mcolumns\u001b[0m\u001b[1;33m=\u001b[0m\u001b[1;33m[\u001b[0m\u001b[1;34m'PropertyField6'\u001b[0m\u001b[1;33m]\u001b[0m\u001b[1;33m)\u001b[0m\u001b[1;33m\u001b[0m\u001b[0m\n",
      "\u001b[1;32mF:\\Pritee\\Installations\\Anaconda\\lib\\site-packages\\pandas\\core\\frame.py\u001b[0m in \u001b[0;36mdrop\u001b[1;34m(self, labels, axis, index, columns, level, inplace, errors)\u001b[0m\n\u001b[0;32m   3695\u001b[0m                                            \u001b[0mindex\u001b[0m\u001b[1;33m=\u001b[0m\u001b[0mindex\u001b[0m\u001b[1;33m,\u001b[0m \u001b[0mcolumns\u001b[0m\u001b[1;33m=\u001b[0m\u001b[0mcolumns\u001b[0m\u001b[1;33m,\u001b[0m\u001b[1;33m\u001b[0m\u001b[0m\n\u001b[0;32m   3696\u001b[0m                                            \u001b[0mlevel\u001b[0m\u001b[1;33m=\u001b[0m\u001b[0mlevel\u001b[0m\u001b[1;33m,\u001b[0m \u001b[0minplace\u001b[0m\u001b[1;33m=\u001b[0m\u001b[0minplace\u001b[0m\u001b[1;33m,\u001b[0m\u001b[1;33m\u001b[0m\u001b[0m\n\u001b[1;32m-> 3697\u001b[1;33m                                            errors=errors)\n\u001b[0m\u001b[0;32m   3698\u001b[0m \u001b[1;33m\u001b[0m\u001b[0m\n\u001b[0;32m   3699\u001b[0m     @rewrite_axis_style_signature('mapper', [('copy', True),\n",
      "\u001b[1;32mF:\\Pritee\\Installations\\Anaconda\\lib\\site-packages\\pandas\\core\\generic.py\u001b[0m in \u001b[0;36mdrop\u001b[1;34m(self, labels, axis, index, columns, level, inplace, errors)\u001b[0m\n\u001b[0;32m   3109\u001b[0m         \u001b[1;32mfor\u001b[0m \u001b[0maxis\u001b[0m\u001b[1;33m,\u001b[0m \u001b[0mlabels\u001b[0m \u001b[1;32min\u001b[0m \u001b[0maxes\u001b[0m\u001b[1;33m.\u001b[0m\u001b[0mitems\u001b[0m\u001b[1;33m(\u001b[0m\u001b[1;33m)\u001b[0m\u001b[1;33m:\u001b[0m\u001b[1;33m\u001b[0m\u001b[0m\n\u001b[0;32m   3110\u001b[0m             \u001b[1;32mif\u001b[0m \u001b[0mlabels\u001b[0m \u001b[1;32mis\u001b[0m \u001b[1;32mnot\u001b[0m \u001b[1;32mNone\u001b[0m\u001b[1;33m:\u001b[0m\u001b[1;33m\u001b[0m\u001b[0m\n\u001b[1;32m-> 3111\u001b[1;33m                 \u001b[0mobj\u001b[0m \u001b[1;33m=\u001b[0m \u001b[0mobj\u001b[0m\u001b[1;33m.\u001b[0m\u001b[0m_drop_axis\u001b[0m\u001b[1;33m(\u001b[0m\u001b[0mlabels\u001b[0m\u001b[1;33m,\u001b[0m \u001b[0maxis\u001b[0m\u001b[1;33m,\u001b[0m \u001b[0mlevel\u001b[0m\u001b[1;33m=\u001b[0m\u001b[0mlevel\u001b[0m\u001b[1;33m,\u001b[0m \u001b[0merrors\u001b[0m\u001b[1;33m=\u001b[0m\u001b[0merrors\u001b[0m\u001b[1;33m)\u001b[0m\u001b[1;33m\u001b[0m\u001b[0m\n\u001b[0m\u001b[0;32m   3112\u001b[0m \u001b[1;33m\u001b[0m\u001b[0m\n\u001b[0;32m   3113\u001b[0m         \u001b[1;32mif\u001b[0m \u001b[0minplace\u001b[0m\u001b[1;33m:\u001b[0m\u001b[1;33m\u001b[0m\u001b[0m\n",
      "\u001b[1;32mF:\\Pritee\\Installations\\Anaconda\\lib\\site-packages\\pandas\\core\\generic.py\u001b[0m in \u001b[0;36m_drop_axis\u001b[1;34m(self, labels, axis, level, errors)\u001b[0m\n\u001b[0;32m   3141\u001b[0m                 \u001b[0mnew_axis\u001b[0m \u001b[1;33m=\u001b[0m \u001b[0maxis\u001b[0m\u001b[1;33m.\u001b[0m\u001b[0mdrop\u001b[0m\u001b[1;33m(\u001b[0m\u001b[0mlabels\u001b[0m\u001b[1;33m,\u001b[0m \u001b[0mlevel\u001b[0m\u001b[1;33m=\u001b[0m\u001b[0mlevel\u001b[0m\u001b[1;33m,\u001b[0m \u001b[0merrors\u001b[0m\u001b[1;33m=\u001b[0m\u001b[0merrors\u001b[0m\u001b[1;33m)\u001b[0m\u001b[1;33m\u001b[0m\u001b[0m\n\u001b[0;32m   3142\u001b[0m             \u001b[1;32melse\u001b[0m\u001b[1;33m:\u001b[0m\u001b[1;33m\u001b[0m\u001b[0m\n\u001b[1;32m-> 3143\u001b[1;33m                 \u001b[0mnew_axis\u001b[0m \u001b[1;33m=\u001b[0m \u001b[0maxis\u001b[0m\u001b[1;33m.\u001b[0m\u001b[0mdrop\u001b[0m\u001b[1;33m(\u001b[0m\u001b[0mlabels\u001b[0m\u001b[1;33m,\u001b[0m \u001b[0merrors\u001b[0m\u001b[1;33m=\u001b[0m\u001b[0merrors\u001b[0m\u001b[1;33m)\u001b[0m\u001b[1;33m\u001b[0m\u001b[0m\n\u001b[0m\u001b[0;32m   3144\u001b[0m             \u001b[0mresult\u001b[0m \u001b[1;33m=\u001b[0m \u001b[0mself\u001b[0m\u001b[1;33m.\u001b[0m\u001b[0mreindex\u001b[0m\u001b[1;33m(\u001b[0m\u001b[1;33m**\u001b[0m\u001b[1;33m{\u001b[0m\u001b[0maxis_name\u001b[0m\u001b[1;33m:\u001b[0m \u001b[0mnew_axis\u001b[0m\u001b[1;33m}\u001b[0m\u001b[1;33m)\u001b[0m\u001b[1;33m\u001b[0m\u001b[0m\n\u001b[0;32m   3145\u001b[0m \u001b[1;33m\u001b[0m\u001b[0m\n",
      "\u001b[1;32mF:\\Pritee\\Installations\\Anaconda\\lib\\site-packages\\pandas\\core\\indexes\\base.py\u001b[0m in \u001b[0;36mdrop\u001b[1;34m(self, labels, errors)\u001b[0m\n\u001b[0;32m   4402\u001b[0m             \u001b[1;32mif\u001b[0m \u001b[0merrors\u001b[0m \u001b[1;33m!=\u001b[0m \u001b[1;34m'ignore'\u001b[0m\u001b[1;33m:\u001b[0m\u001b[1;33m\u001b[0m\u001b[0m\n\u001b[0;32m   4403\u001b[0m                 raise KeyError(\n\u001b[1;32m-> 4404\u001b[1;33m                     '{} not found in axis'.format(labels[mask]))\n\u001b[0m\u001b[0;32m   4405\u001b[0m             \u001b[0mindexer\u001b[0m \u001b[1;33m=\u001b[0m \u001b[0mindexer\u001b[0m\u001b[1;33m[\u001b[0m\u001b[1;33m~\u001b[0m\u001b[0mmask\u001b[0m\u001b[1;33m]\u001b[0m\u001b[1;33m\u001b[0m\u001b[0m\n\u001b[0;32m   4406\u001b[0m         \u001b[1;32mreturn\u001b[0m \u001b[0mself\u001b[0m\u001b[1;33m.\u001b[0m\u001b[0mdelete\u001b[0m\u001b[1;33m(\u001b[0m\u001b[0mindexer\u001b[0m\u001b[1;33m)\u001b[0m\u001b[1;33m\u001b[0m\u001b[0m\n",
      "\u001b[1;31mKeyError\u001b[0m: \"['PropertyField29'] not found in axis\""
     ]
    }
   ],
   "source": [
    "#remove columns which we are not going to use - all columns with null values in training dataset\n",
    "homesite_train = homesite_train.drop(columns=['PropertyField29'])\n",
    "homesite_train = homesite_train.drop(columns=['PersonalField84'])\n",
    "homesite_train = homesite_train.drop(columns=['Original_Quote_Date'])\n",
    "homesite_train = homesite_train.drop(columns=['PropertyField6'])\n",
    "homesite_train = homesite_train.drop(columns=['GeographicField10A'])\n",
    "print(homesite_train.shape)"
   ]
  },
  {
   "cell_type": "code",
   "execution_count": 9,
   "metadata": {},
   "outputs": [
    {
     "name": "stdout",
     "output_type": "stream",
     "text": [
      "(173836, 296)\n"
     ]
    }
   ],
   "source": [
    "#remove columns which we are not going to use - all columns with null values in testing dataset\n",
    "homesite_test = homesite_test.drop(columns=['PropertyField29'])\n",
    "homesite_test = homesite_test.drop(columns=['PersonalField84'])\n",
    "homesite_test = homesite_test.drop(columns=['Original_Quote_Date'])\n",
    "homesite_test = homesite_test.drop(columns=['PropertyField6'])\n",
    "homesite_test = homesite_test.drop(columns=['GeographicField10A'])\n",
    "print(homesite_test.shape)"
   ]
  },
  {
   "cell_type": "code",
   "execution_count": 10,
   "metadata": {},
   "outputs": [
    {
     "name": "stdout",
     "output_type": "stream",
     "text": [
      "(260753, 297)\n",
      "(173836, 296)\n"
     ]
    }
   ],
   "source": [
    "#remove duplicate rows \n",
    "homesite_train = homesite_train.drop_duplicates()\n",
    "print(homesite_train.shape)\n",
    "\n",
    "homesite_test = homesite_test.drop_duplicates()\n",
    "print(homesite_test.shape)"
   ]
  },
  {
   "cell_type": "code",
   "execution_count": 11,
   "metadata": {},
   "outputs": [],
   "source": [
    "#fillna (-99)\n",
    "homesite_train=homesite_train.fillna(-99)\n",
    "homesite_test=homesite_test.fillna(-99)"
   ]
  },
  {
   "cell_type": "code",
   "execution_count": 12,
   "metadata": {},
   "outputs": [
    {
     "name": "stdout",
     "output_type": "stream",
     "text": [
      "Field6\n",
      "Field6\n",
      "Field10\n",
      "Field10\n",
      "Field12\n",
      "Field12\n",
      "CoverageField8\n",
      "CoverageField8\n",
      "CoverageField9\n",
      "CoverageField9\n",
      "SalesField7\n",
      "SalesField7\n",
      "PersonalField7\n",
      "PersonalField7\n",
      "PersonalField16\n",
      "PersonalField16\n",
      "PersonalField17\n",
      "PersonalField17\n",
      "PersonalField18\n",
      "PersonalField18\n",
      "PersonalField19\n",
      "PersonalField19\n",
      "PropertyField3\n",
      "PropertyField3\n",
      "PropertyField4\n",
      "PropertyField4\n",
      "PropertyField5\n",
      "PropertyField5\n",
      "PropertyField7\n",
      "PropertyField7\n",
      "PropertyField14\n",
      "PropertyField14\n",
      "PropertyField28\n",
      "PropertyField28\n",
      "PropertyField30\n",
      "PropertyField30\n",
      "PropertyField31\n",
      "PropertyField31\n",
      "PropertyField32\n",
      "PropertyField32\n",
      "PropertyField33\n",
      "PropertyField33\n",
      "PropertyField34\n",
      "PropertyField34\n",
      "PropertyField36\n",
      "PropertyField36\n",
      "PropertyField37\n",
      "PropertyField37\n",
      "PropertyField38\n",
      "PropertyField38\n",
      "GeographicField63\n",
      "GeographicField63\n",
      "GeographicField64\n",
      "GeographicField64\n"
     ]
    }
   ],
   "source": [
    "## Converting categorical variables into numeric variables with label encoder\n",
    "from sklearn.preprocessing import LabelEncoder  \n",
    "\n",
    "for cat in homesite_train.columns:\n",
    "    if homesite_train[cat].dtype=='object':\n",
    "        print(cat)\n",
    "        lbl=preprocessing.LabelEncoder()\n",
    "        lbl.fit(list(homesite_train[cat].values))\n",
    "        homesite_train[cat]=lbl.transform(list(homesite_train[cat].values))\n",
    "        print(cat)"
   ]
  },
  {
   "cell_type": "code",
   "execution_count": 13,
   "metadata": {},
   "outputs": [
    {
     "name": "stdout",
     "output_type": "stream",
     "text": [
      "Field6\n",
      "Field6\n",
      "Field10\n",
      "Field10\n",
      "Field12\n",
      "Field12\n",
      "CoverageField8\n",
      "CoverageField8\n",
      "CoverageField9\n",
      "CoverageField9\n",
      "SalesField7\n",
      "SalesField7\n",
      "PersonalField7\n",
      "PersonalField7\n",
      "PersonalField16\n",
      "PersonalField16\n",
      "PersonalField17\n",
      "PersonalField17\n",
      "PersonalField18\n",
      "PersonalField18\n",
      "PersonalField19\n",
      "PersonalField19\n",
      "PropertyField3\n",
      "PropertyField3\n",
      "PropertyField4\n",
      "PropertyField4\n",
      "PropertyField5\n",
      "PropertyField5\n",
      "PropertyField7\n",
      "PropertyField7\n",
      "PropertyField14\n",
      "PropertyField14\n",
      "PropertyField28\n",
      "PropertyField28\n",
      "PropertyField30\n",
      "PropertyField30\n",
      "PropertyField31\n",
      "PropertyField31\n",
      "PropertyField32\n",
      "PropertyField32\n",
      "PropertyField33\n",
      "PropertyField33\n",
      "PropertyField34\n",
      "PropertyField34\n",
      "PropertyField36\n",
      "PropertyField36\n",
      "PropertyField37\n",
      "PropertyField37\n",
      "PropertyField38\n",
      "PropertyField38\n",
      "GeographicField63\n",
      "GeographicField63\n",
      "GeographicField64\n",
      "GeographicField64\n"
     ]
    }
   ],
   "source": [
    "## Converting categorical variables into numeric variables with label encoder\n",
    "for cat in homesite_test.columns:\n",
    "    if homesite_test[cat].dtype=='object':\n",
    "        print(cat)\n",
    "        lbl=preprocessing.LabelEncoder()\n",
    "        lbl.fit(list(homesite_test[cat].values))\n",
    "        homesite_test[cat]=lbl.transform(list(homesite_test[cat].values))\n",
    "        print(cat)"
   ]
  },
  {
   "cell_type": "code",
   "execution_count": 14,
   "metadata": {},
   "outputs": [
    {
     "name": "stdout",
     "output_type": "stream",
     "text": [
      "(173836, 295)\n",
      "(260753, 295)\n"
     ]
    }
   ],
   "source": [
    "X_train = homesite_train.drop(columns=['QuoteNumber'])\n",
    "X_train = X_train.drop(columns=['QuoteConversion_Flag'])\n",
    "y_train = homesite_train.QuoteConversion_Flag\n",
    " \n",
    "X_test = homesite_test.drop(columns=['QuoteNumber'])\n",
    "print(X_test.shape)\n",
    "print(X_train.shape)"
   ]
  },
  {
   "cell_type": "code",
   "execution_count": 15,
   "metadata": {},
   "outputs": [],
   "source": [
    "#Split the training data into training & validation\n",
    "X_train,X_val,y_train,y_val=train_test_split(X_train,y_train,test_size=0.3,random_state=0)"
   ]
  },
  {
   "cell_type": "code",
   "execution_count": 16,
   "metadata": {},
   "outputs": [
    {
     "name": "stderr",
     "output_type": "stream",
     "text": [
      "F:\\Pritee\\Installations\\Anaconda\\lib\\site-packages\\xgboost\\sklearn.py:1146: UserWarning: The use of label encoder in XGBClassifier is deprecated and will be removed in a future release. To remove this warning, do the following: 1) Pass option use_label_encoder=False when constructing XGBClassifier object; and 2) Encode your labels (y) as integers starting with 0, i.e. 0, 1, 2, ..., [num_class - 1].\n",
      "  warnings.warn(label_encoder_deprecation_msg, UserWarning)\n"
     ]
    },
    {
     "name": "stdout",
     "output_type": "stream",
     "text": [
      "[17:09:25] WARNING: C:/Users/Administrator/workspace/xgboost-win64_release_1.4.0/src/learner.cc:1095: Starting in XGBoost 1.3.0, the default evaluation metric used with the objective 'binary:logistic' was changed from 'error' to 'logloss'. Explicitly set eval_metric if you'd like to restore the old behavior.\n"
     ]
    },
    {
     "data": {
      "text/plain": [
       "XGBClassifier(base_score=0.5, booster='gbtree', colsample_bylevel=1,\n",
       "              colsample_bynode=1, colsample_bytree=1, gamma=0, gpu_id=-1,\n",
       "              importance_type='gain', interaction_constraints='',\n",
       "              learning_rate=0.1, max_delta_step=0, max_depth=3,\n",
       "              min_child_weight=1, missing=nan, monotone_constraints='()',\n",
       "              n_estimators=100, n_jobs=8, num_parallel_tree=1, random_state=0,\n",
       "              reg_alpha=0, reg_lambda=1, scale_pos_weight=1, subsample=1,\n",
       "              tree_method='exact', validate_parameters=1, verbosity=None)"
      ]
     },
     "execution_count": 16,
     "metadata": {},
     "output_type": "execute_result"
    }
   ],
   "source": [
    "xgb = XGBClassifier(learning_rate=0.1,max_depth=3)\n",
    "xgb.fit(X_train, y_train)"
   ]
  },
  {
   "cell_type": "code",
   "execution_count": 17,
   "metadata": {},
   "outputs": [],
   "source": [
    "#predcting probability using xgboost for testing dataset\n",
    "y_test = xgb.predict_proba(X_test)"
   ]
  },
  {
   "cell_type": "code",
   "execution_count": 18,
   "metadata": {},
   "outputs": [],
   "source": [
    "#final submission \n",
    "df_submission=pd.read_csv('sample_submission.csv')\n",
    "df_submission['QuoteConversion_Flag']=y_test[:,1]\n",
    "df_submission.to_csv('xgb_without_features.csv',index=False)"
   ]
  },
  {
   "cell_type": "code",
   "execution_count": 19,
   "metadata": {},
   "outputs": [],
   "source": [
    "#Derive \"y_pred\" values based on X_val\n",
    "y_pred = xgb.predict(X_val)"
   ]
  },
  {
   "cell_type": "code",
   "execution_count": 20,
   "metadata": {},
   "outputs": [
    {
     "name": "stdout",
     "output_type": "stream",
     "text": [
      "Accuracy of LR : 0.9218546263390689\n"
     ]
    }
   ],
   "source": [
    "#Accuracy of validation data\n",
    "print('Accuracy of LR :', accuracy_score(y_val, y_pred, normalize=True))"
   ]
  },
  {
   "cell_type": "code",
   "execution_count": 21,
   "metadata": {},
   "outputs": [
    {
     "name": "stdout",
     "output_type": "stream",
     "text": [
      "F1 Score : 0.9152434206997814\n"
     ]
    }
   ],
   "source": [
    "#F1 score of validation data\n",
    "print ('F1 Score :' , f1_score(y_val, y_pred, average='weighted'))"
   ]
  },
  {
   "cell_type": "code",
   "execution_count": 22,
   "metadata": {},
   "outputs": [
    {
     "name": "stdout",
     "output_type": "stream",
     "text": [
      "Log loss : 2.6990509024205855\n"
     ]
    }
   ],
   "source": [
    "#log loss of validation data\n",
    "print('Log loss :' ,log_loss(y_val, y_pred))"
   ]
  },
  {
   "cell_type": "code",
   "execution_count": 23,
   "metadata": {},
   "outputs": [
    {
     "name": "stdout",
     "output_type": "stream",
     "text": [
      "ROC/AUC score : 0.8063491032595538\n"
     ]
    }
   ],
   "source": [
    "#ROC/AUC of validation data\n",
    "print ('ROC/AUC score :' ,roc_auc_score(y_val, y_pred, average='weighted'))"
   ]
  },
  {
   "cell_type": "code",
   "execution_count": 25,
   "metadata": {},
   "outputs": [
    {
     "name": "stdout",
     "output_type": "stream",
     "text": [
      "roc_auc_score for DecisionTree:  0.9585741464550187\n"
     ]
    },
    {
     "data": {
      "image/png": "[encoded data removed]",
      "text/plain": [
       "<Figure size 432x576 with 1 Axes>"
      ]
     },
     "metadata": {
      "needs_background": "light"
     },
     "output_type": "display_data"
    }
   ],
   "source": [
    "import matplotlib.pyplot as plt \n",
    "import sklearn.metrics as metrics\n",
    "y_score1 = xgb.predict_proba(X_val)[:,1]\n",
    "#y_score2 = clf_reg.predict_proba(X_test)[:,1]\n",
    "\n",
    "false_positive_rate1, true_positive_rate1, threshold1 = metrics.roc_curve(y_val, y_score1)\n",
    "#false_positive_rate2, true_positive_rate2, threshold2 = roc_curve(y_test, y_score2)\n",
    "\n",
    "print('roc_auc_score for DecisionTree: ', roc_auc_score(y_val, y_score1))\n",
    "#print('roc_auc_score for Logistic Regression: ', roc_auc_score(y_test, y_score2))\n",
    "    \n",
    "plt.subplots(1, figsize=(6,8))\n",
    "plt.title('Receiver Operating Characteristic - XGBoost model Without Feature Selection')\n",
    "plt.plot(false_positive_rate1, true_positive_rate1)\n",
    "plt.plot([0, 1], ls=\"--\")\n",
    "plt.plot([0, 0], [1, 0] , c=\".7\"), plt.plot([1, 1] , c=\".7\")\n",
    "plt.ylabel('True Positive Rate')\n",
    "plt.xlabel('False Positive Rate')\n",
    "plt.show()"
   ]
  },
  {
   "cell_type": "code",
   "execution_count": null,
   "metadata": {},
   "outputs": [],
   "source": []
  }
 ],
 "metadata": {
  "kernelspec": {
   "display_name": "Python 3",
   "language": "python",
   "name": "python3"
  },
  "language_info": {
   "codemirror_mode": {
    "name": "ipython",
    "version": 3
   },
   "file_extension": ".py",
   "mimetype": "text/x-python",
   "name": "python",
   "nbconvert_exporter": "python",
   "pygments_lexer": "ipython3",
   "version": "3.7.0"
  }
 },
 "nbformat": 4,
 "nbformat_minor": 2
}
